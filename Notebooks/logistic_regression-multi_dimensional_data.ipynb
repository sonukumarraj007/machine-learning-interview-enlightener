{
 "cells": [
  {
   "cell_type": "markdown",
   "metadata": {},
   "source": [
    "## logistic regression multi-dimensional data"
   ]
  },
  {
   "cell_type": "markdown",
   "metadata": {},
   "source": [
    " logistic regression multi-dimensional data\n",
    " \n",
    " \n",
    " $$ F(X)=X \\times W $$\n",
    " $$ H(x)= \\frac{1}{1+ e ^{F(x)}} $$\n",
    " $$ C= -\\frac{1}{n} \\sum_{i,j} (Y \\odot log(H(x)) + (1-Y) \\odot log(1-H(x)) ) $$\n",
    "\n",
    "$X_{n \\times k}$\n",
    "\n",
    "$W_{k \\times p}$\n",
    "\n",
    "$Y_{n \\times p}$"
   ]
  },
  {
   "cell_type": "code",
   "execution_count": 1,
   "metadata": {},
   "outputs": [],
   "source": [
    "import numpy as np\n",
    "import random"
   ]
  },
  {
   "cell_type": "code",
   "execution_count": 2,
   "metadata": {},
   "outputs": [],
   "source": [
    "n, k, p=100, 8, 3 "
   ]
  },
  {
   "cell_type": "code",
   "execution_count": 3,
   "metadata": {},
   "outputs": [],
   "source": [
    "X=np.random.random([n,k])\n",
    "W=np.random.random([k,p])\n",
    "\n",
    "y=np.random.randint(p, size=(1,n))\n",
    "Y=np.zeros((n,p))\n",
    "Y[np.arange(n), y]=1\n",
    "\n",
    "max_itr=5000\n",
    "alpha=0.01\n",
    "Lambda=0.01"
   ]
  },
  {
   "cell_type": "markdown",
   "metadata": {},
   "source": [
    "Gradient is as follows:\n",
    "$$ X^T (H(x)-Y) + \\lambda 2 W$$"
   ]
  },
  {
   "cell_type": "code",
   "execution_count": 4,
   "metadata": {},
   "outputs": [],
   "source": [
    "# F(x)= w[0]*x + w[1]\n",
    "def F(X, W):\n",
    "    return np.matmul(X,W)\n",
    "\n",
    "def H(F):\n",
    "    return 1/(1+np.exp(-F))\n",
    "\n",
    "def cost(Y_est, Y):\n",
    "    E= - (1/n) * (np.sum(Y*np.log(Y_est) + (1-Y)*np.log(1-Y_est)))  + np.linalg.norm(W,2)\n",
    "    return E, np.sum(np.argmax(Y_est,1)==y)/n\n",
    "\n",
    "def gradient(Y_est, Y, X):\n",
    "    return (1/n) * np.matmul(X.T, (Y_est - Y) ) + Lambda* 2* W"
   ]
  },
  {
   "cell_type": "code",
   "execution_count": 5,
   "metadata": {},
   "outputs": [],
   "source": [
    "def fit(W, X, Y, alpha, max_itr):\n",
    "    for i in range(max_itr):\n",
    "        \n",
    "        F_x=F(X,W)\n",
    "        Y_est=H(F_x)\n",
    "        E, c= cost(Y_est, Y)\n",
    "        Wg=gradient(Y_est, Y, X)\n",
    "        W=W - alpha * Wg\n",
    "        if i%100==0:\n",
    "            print(E, c)\n",
    "        \n",
    "    return W"
   ]
  },
  {
   "cell_type": "markdown",
   "metadata": {},
   "source": [
    "To take into account for the biases, we concatenate X by a 1 column, and increase the number of rows in W by one"
   ]
  },
  {
   "cell_type": "code",
   "execution_count": 6,
   "metadata": {},
   "outputs": [
    {
     "name": "stdout",
     "output_type": "stream",
     "text": [
      "7.4579806405614475 0.29\n",
      "5.310334261427368 0.27\n",
      "4.61333462151825 0.28\n",
      "4.458840424809721 0.28\n",
      "4.423655116264538 0.31\n",
      "4.41283996756131 0.34\n",
      "4.406917038718676 0.34\n",
      "4.4018495051614295 0.35\n",
      "4.396888161318571 0.36\n",
      "4.391965662696364 0.36\n",
      "4.387126041157332 0.38\n",
      "4.382410372778 0.38\n",
      "4.377842505832972 0.39\n",
      "4.373433264068013 0.39\n",
      "4.369185684444374 0.41\n",
      "4.365098549530841 0.43\n",
      "4.361168438892006 0.42\n",
      "4.35739085218746 0.43\n",
      "4.353760807448141 0.44\n",
      "4.3502731552331335 0.43\n",
      "4.346922742017842 0.44\n",
      "4.343704494300873 0.45\n",
      "4.340613461158373 0.45\n",
      "4.337644835010831 0.48\n",
      "4.334793960925101 0.49\n",
      "4.332056339841275 0.52\n",
      "4.3294276285439395 0.51\n",
      "4.326903637859782 0.51\n",
      "4.324480329867258 0.51\n",
      "4.322153814541054 0.49\n",
      "4.319920346064352 0.5\n",
      "4.317776318942093 0.49\n",
      "4.31571826399549 0.5\n",
      "4.313742844289394 0.5\n",
      "4.311846851028186 0.49\n",
      "4.310027199446621 0.49\n",
      "4.308280924716288 0.49\n",
      "4.30660517788449 0.5\n",
      "4.304997221859503 0.49\n",
      "4.3034544274540005 0.5\n",
      "4.301974269496508 0.5\n",
      "4.300554323019215 0.5\n",
      "4.299192259529018 0.5\n",
      "4.2978858433674345 0.5\n",
      "4.296632928163862 0.5\n",
      "4.295431453385704 0.51\n",
      "4.294279440987908 0.5\n",
      "4.293174992163717 0.5\n",
      "4.292116284197688 0.5\n",
      "4.291101567421416 0.49\n"
     ]
    }
   ],
   "source": [
    "X=np.concatenate( (X, np.ones((n,1))), axis=1 ) \n",
    "W=np.concatenate( (W, np.random.random((1,p)) ), axis=0 )\n",
    "\n",
    "W = fit(W, X, Y, alpha, max_itr)"
   ]
  },
  {
   "cell_type": "code",
   "execution_count": null,
   "metadata": {},
   "outputs": [],
   "source": []
  }
 ],
 "metadata": {
  "kernelspec": {
   "display_name": "Python 3",
   "language": "python",
   "name": "python3"
  },
  "language_info": {
   "codemirror_mode": {
    "name": "ipython",
    "version": 3
   },
   "file_extension": ".py",
   "mimetype": "text/x-python",
   "name": "python",
   "nbconvert_exporter": "python",
   "pygments_lexer": "ipython3",
   "version": "3.5.6"
  }
 },
 "nbformat": 4,
 "nbformat_minor": 4
}
