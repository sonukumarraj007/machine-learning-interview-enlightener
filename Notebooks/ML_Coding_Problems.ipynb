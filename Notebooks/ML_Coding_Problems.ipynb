{
 "cells": [
  {
   "cell_type": "markdown",
   "metadata": {},
   "source": [
    "# ML Coding Problems \n",
    "- Author: Alireza Dirafzoon\n",
    "- Work in progress; Contributions are welcome :) "
   ]
  },
  {
   "cell_type": "code",
   "execution_count": 1,
   "metadata": {},
   "outputs": [],
   "source": [
    "import numpy as np\n",
    "import random, collections\n",
    "\n",
    "from matplotlib import pyplot as plt \n",
    "%matplotlib inline "
   ]
  },
  {
   "cell_type": "markdown",
   "metadata": {},
   "source": [
    "## Kmeans Clustering"
   ]
  },
  {
   "cell_type": "code",
   "execution_count": 8,
   "metadata": {},
   "outputs": [
    {
     "name": "stdout",
     "output_type": "stream",
     "text": [
      "[array([4.75401264, 4.99535506]), array([-4.93248421, -4.73085676])]\n",
      "defaultdict(<class 'list'>, {0: [array([3.90785045, 6.55510632]), array([5.8373926, 2.8878767]), array([4.73828244, 4.41468663]), array([5.02741639, 6.27032238]), array([4.25912132, 4.84878326])], 1: [array([-5.74522008, -5.78916022]), array([-5.16147393, -5.03389587]), array([-3.87095411, -3.12125983]), array([-5.4299055 , -5.75957079]), array([-4.4548674 , -3.95039709])]})\n"
     ]
    }
   ],
   "source": [
    "def _clsuter(X,mus):\n",
    "    clusters = collections.defaultdict(list)\n",
    "    for x in X: \n",
    "        mu_idx, _ = min([(i,get_dist(x,mu)) for i,mu in enumerate(mus)], key=lambda pair:pair[1])\n",
    "        clusters[mu_idx].append(x)\n",
    "    return clusters\n",
    "        \n",
    "def recalc_centers(clusters):\n",
    "    mus = []\n",
    "    keys = sorted(clusters.keys())\n",
    "    for k in keys: \n",
    "        mus.append(np.mean(clsuters[k], axis=0))\n",
    "    return mus\n",
    "    \n",
    "\n",
    "def kmeans(X, k):\n",
    "    mu = X[np.random.choice(X.shape[0],k, False)]\n",
    "    pre_mu = mu + 2\n",
    "    \n",
    "    it  = 0 \n",
    "    while it < 10 and not has_converged(mu, pre_mu):\n",
    "        pre_mu = mu \n",
    "        clusters = _cluster(X, mu)\n",
    "        mu = recalc_centers(clusters)\n",
    "        it += 1 \n",
    "    return (mu, clusters)\n",
    "    \n",
    "\n",
    "def _cluster(X, mus):\n",
    "    clusters = collections.defaultdict(list)\n",
    "    for x in X:\n",
    "        dists = [np.linalg.norm(x-mu) for mu in mus]\n",
    "        min_idx = dists.index(min(dists))\n",
    "        clusters[min_idx].append(x)\n",
    "    return clusters\n",
    "\n",
    "def _calc_centers(mu, clusters):\n",
    "    mus = []\n",
    "    keys = sorted(clusters.keys())\n",
    "    for k in keys:\n",
    "        mus.append(np.mean(clusters[k], axis = 0))\n",
    "    return mus\n",
    "\n",
    "def has_converged(mu, oldmu):\n",
    "    #ToDo\n",
    "    # return (set([tuple(a) for a in mu]) == set([tuple(a) for a in oldmu]))\n",
    "    return False \n",
    "\n",
    "\n",
    "def kmeans_fit(X, K):\n",
    "    # Initialize to K random centers\n",
    "    mus = X[np.random.choice(X.shape[0],k, False)]\n",
    "    pre_mus = mus + 2\n",
    "    max_it, it = 10, 1 \n",
    "\n",
    "    while it < max_it and not has_converged(mus, pre_mus):\n",
    "        pre_mus  = mus\n",
    "        # Assign all points in X to clusters\n",
    "        clusters = _cluster(X, mus)\n",
    "        # Reevaluate centers\n",
    "        mus = _calc_centers(mus, clusters)\n",
    "        it += 1 \n",
    "        \n",
    "    return(mus, clusters)\n",
    "\n",
    "def kmeans_predict():\n",
    "    #todo \n",
    "    pass \n",
    "\n",
    "x1 = np.random.randn(5,2) + 5\n",
    "x2 = np.random.randn(5,2) - 5\n",
    "X = np.concatenate([x1,x2], axis=0)\n",
    "k = 2\n",
    "mus, clusters = kmeans_fit(X, k)\n",
    "print(mus)\n",
    "print(clusters)"
   ]
  },
  {
   "cell_type": "markdown",
   "metadata": {},
   "source": [
    "Follow ups: \n",
    "- computattional complexity: O(it * k*n*d)\n",
    "- improve space: use index instead of copy \n",
    "- improve time: \n",
    "    - dim reduction \n",
    "    - subsample (cons?)\n",
    "- mini-batch\n",
    "- k-median \n",
    "https://mmuratarat.github.io/2019-07-23/kmeans_from_scratch"
   ]
  },
  {
   "cell_type": "markdown",
   "metadata": {},
   "source": [
    "## Linear Regression "
   ]
  },
  {
   "cell_type": "code",
   "execution_count": 3,
   "metadata": {},
   "outputs": [],
   "source": [
    "# https://en.wikipedia.org/wiki/Simple_linear_regression"
   ]
  },
  {
   "cell_type": "code",
   "execution_count": 9,
   "metadata": {},
   "outputs": [
    {
     "name": "stdout",
     "output_type": "stream",
     "text": [
      "2.9998703130892173 -1.9873208939401277\n",
      "0.9999577341447001\n"
     ]
    }
   ],
   "source": [
    "class LinearRegressor: \n",
    "    def __init__(self):\n",
    "        self.m = 0 \n",
    "        self.b = 0 \n",
    "\n",
    "    def _mean(self,X):\n",
    "        return np.mean(X)\n",
    "    def SS(self, X, Y):\n",
    "        return sum((X-Y)**2)\n",
    "    \n",
    "    def fit(self, X, Y):\n",
    "#         self.m = (np.mean(X) * np.mean(Y) - np.mean(X*Y)) / (np.mean(X)**2 - np.mean(X**2))\n",
    "        self.m = sum((X - np.mean(X))*(Y - np.mean(Y))) / sum((X - np.mean(X))**2)\n",
    "        self.b = np.mean(Y) - self.m * np.mean(X) \n",
    "        \n",
    "    def coef(self, Y, Y_hat):\n",
    "        return 1 - self.SS(Y,Y_hat) / self.SS(Y, np.mean(Y))\n",
    "        \n",
    "    def predict(self,X):\n",
    "        return self.m * X + self.b \n",
    "    \n",
    "X = np.linspace(0,10,10)\n",
    "m, b  = 3, -2\n",
    "Y = m * X + b + 0.1 * np.random.randn(X.shape[0])\n",
    "\n",
    "lr = LinearRegressor()\n",
    "lr.fit(X,Y)\n",
    "Y_hat = lr.predict(X)\n",
    "R2 = lr.coef(Y,Y_hat)\n",
    "\n",
    "print(lr.m, lr.b)\n",
    "print(R2)"
   ]
  },
  {
   "cell_type": "markdown",
   "metadata": {},
   "source": [
    "## Logistic Regression "
   ]
  },
  {
   "cell_type": "code",
   "execution_count": 10,
   "metadata": {},
   "outputs": [
    {
     "name": "stdout",
     "output_type": "stream",
     "text": [
      "[1. 1. 1. 1. 1. 0. 0. 0. 0. 0.]\n"
     ]
    }
   ],
   "source": [
    "x1 = np.random.randn(5,2) + 5\n",
    "x2 = np.random.randn(5,2) - 5\n",
    "X = np.concatenate([x1,x2], axis=0)\n",
    "y = np.concatenate([np.ones(5),-np.ones(5)], axis=0).astype(np.int16)\n",
    "\n",
    "\n",
    "def sigmoid(z):\n",
    "    return 1.0 / (1 + np.exp(-z))\n",
    "\n",
    "def cost_fcn(x,theta,y):\n",
    "    h = sigmoid(np.dot(x,theta))\n",
    "    J = (1.0/m) * np.sum( -y * np.log(h) - (1.0 - y) * np.log(1.0 - h))\n",
    "    return J \n",
    "\n",
    "def gradients(x, theta, y):\n",
    "    h = sigmoid(np.dot(x,theta))\n",
    "    return (1.0 /m) * np.dot(x.T, (h-y))\n",
    "\n",
    "def logistic_regression(X,y):\n",
    "    max_it = 10\n",
    "    alpha = 0.1\n",
    "    cost = []\n",
    "    theta = np.random.rand(X.shape[1])\n",
    "    for it in range(max_it): \n",
    "        cost.append(cost_fcn(X,theta,y))\n",
    "        grads = gradients(X,theta, y)\n",
    "        theta = theta - alpha * grads\n",
    "    pred = np.dot(X,theta)\n",
    "    pred[pred >= 0.5] = 1\n",
    "    pred[pred < 0.5] = 0\n",
    "    print(pred)\n",
    "    \n",
    "    \n",
    "x1 = np.random.randn(5,2) + 5\n",
    "x2 = np.random.randn(5,2) - 5\n",
    "X = np.concatenate([x1,x2], axis=0)    \n",
    "y  = np.concatenate([np.ones(5), -np.zeros(5)], axis=0)   \n",
    "logistic_regression(X,y)"
   ]
  },
  {
   "cell_type": "markdown",
   "metadata": {},
   "source": [
    "## Decision Trees "
   ]
  },
  {
   "cell_type": "code",
   "execution_count": 11,
   "metadata": {},
   "outputs": [],
   "source": [
    "# https://github.com/random-forests/tutorials/blob/master/decision_tree.py"
   ]
  },
  {
   "cell_type": "markdown",
   "metadata": {},
   "source": [
    "## KNN "
   ]
  },
  {
   "cell_type": "code",
   "execution_count": 12,
   "metadata": {},
   "outputs": [],
   "source": [
    "# https://github.com/madhug-nadig/Machine-Learning-Algorithms-from-Scratch/blob/master/K%20Nearest%20Neighbours.py"
   ]
  },
  {
   "cell_type": "markdown",
   "metadata": {},
   "source": [
    "## FF NN "
   ]
  },
  {
   "cell_type": "code",
   "execution_count": 13,
   "metadata": {},
   "outputs": [],
   "source": [
    "# https://github.com/alirezadir/deep-learning/blob/master/first-neural-network/my_answers.py"
   ]
  },
  {
   "cell_type": "markdown",
   "metadata": {},
   "source": [
    "## SVM "
   ]
  },
  {
   "cell_type": "code",
   "execution_count": 14,
   "metadata": {},
   "outputs": [],
   "source": [
    "# https://towardsdatascience.com/support-vector-machine-introduction-to-machine-learning-algorithms-934a444fca47"
   ]
  },
  {
   "cell_type": "markdown",
   "metadata": {},
   "source": [
    "## Sampling multinomial distribution "
   ]
  },
  {
   "cell_type": "markdown",
   "metadata": {},
   "source": [
    "## Stratified sampling"
   ]
  },
  {
   "cell_type": "code",
   "execution_count": 16,
   "metadata": {},
   "outputs": [],
   "source": [
    "#https://towardsdatascience.com/the-5-sampling-algorithms-every-data-scientist-need-to-know-43c7bc11d17c"
   ]
  },
  {
   "cell_type": "markdown",
   "metadata": {},
   "source": [
    "## Random int in range "
   ]
  },
  {
   "cell_type": "code",
   "execution_count": 17,
   "metadata": {},
   "outputs": [],
   "source": [
    "# https://leetcode.com/discuss/interview-question/125347/generate-uniform-random-integer\n",
    "# https://leetcode.com/articles/implement-rand10-using-rand7/"
   ]
  },
  {
   "cell_type": "markdown",
   "metadata": {},
   "source": [
    "## Triangle closing \n"
   ]
  },
  {
   "cell_type": "markdown",
   "metadata": {},
   "source": [
    "## Meeting point + follow ups"
   ]
  },
  {
   "cell_type": "code",
   "execution_count": null,
   "metadata": {},
   "outputs": [],
   "source": []
  }
 ],
 "metadata": {
  "kernelspec": {
   "display_name": "Python 3",
   "language": "python",
   "name": "python3"
  },
  "language_info": {
   "codemirror_mode": {
    "name": "ipython",
    "version": 3
   },
   "file_extension": ".py",
   "mimetype": "text/x-python",
   "name": "python",
   "nbconvert_exporter": "python",
   "pygments_lexer": "ipython3",
   "version": "3.7.3"
  }
 },
 "nbformat": 4,
 "nbformat_minor": 2
}
